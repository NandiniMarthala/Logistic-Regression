{
  "nbformat": 4,
  "nbformat_minor": 0,
  "metadata": {
    "colab": {
      "provenance": []
    },
    "kernelspec": {
      "name": "python3",
      "display_name": "Python 3"
    },
    "language_info": {
      "name": "python"
    }
  },
  "cells": [
    {
      "cell_type": "code",
      "execution_count": null,
      "metadata": {
        "id": "wgV89Hw3qxTA",
        "outputId": "60d901ce-a33f-4796-8727-c0c6955a492b",
        "colab": {
          "base_uri": "https://localhost:8080/"
        }
      },
      "outputs": [
        {
          "output_type": "stream",
          "name": "stdout",
          "text": [
            "Accuracy: 0.9562043795620438\n",
            "              precision    recall  f1-score   support\n",
            "\n",
            "           2       0.94      0.99      0.96        79\n",
            "           4       0.98      0.91      0.95        58\n",
            "\n",
            "    accuracy                           0.96       137\n",
            "   macro avg       0.96      0.95      0.95       137\n",
            "weighted avg       0.96      0.96      0.96       137\n",
            "\n",
            "Confusion Matrix:\n",
            " [[78  1]\n",
            " [ 5 53]]\n"
          ]
        }
      ],
      "source": [
        "import pandas as pd\n",
        "from sklearn.model_selection import train_test_split\n",
        "from sklearn.linear_model import LogisticRegression\n",
        "from sklearn.metrics import accuracy_score, classification_report, confusion_matrix\n",
        "\n",
        "# Load the dataset (replace 'your_dataset.csv' with your actual file path)\n",
        "# Ensure your dataset has a column for the target variable (e.g., 'Class' for breast_cancer dataset)\n",
        "data = pd.read_csv('/content/breast_cancer.csv')\n",
        "\n",
        "# Define features (X) and target variable (y)\n",
        "# Assuming 'Class' is the target variable for breast_cancer dataset\n",
        "X = data.drop('Class', axis=1)  # Features (all columns except 'Class')\n",
        "y = data['Class']  # Target variable ('Class')\n",
        "\n",
        "# Split data into training and testing sets\n",
        "X_train, X_test, y_train, y_test = train_test_split(X, y, test_size=0.2, random_state=42)  # 80% train, 20% test\n",
        "\n",
        "# Initialize and train a Logistic Regression model\n",
        "logreg_model = LogisticRegression(max_iter=1000)  # You can adjust parameters as needed\n",
        "logreg_model.fit(X_train, y_train)\n",
        "\n",
        "# Make predictions on the test set\n",
        "y_pred = logreg_model.predict(X_test)\n",
        "\n",
        "# Evaluate the model\n",
        "accuracy = accuracy_score(y_test, y_pred)\n",
        "print(f\"Accuracy: {accuracy}\")\n",
        "print(classification_report(y_test, y_pred))\n",
        "\n",
        "# Confusion Matrix\n",
        "cm = confusion_matrix(y_test, y_pred)\n",
        "print(\"Confusion Matrix:\\n\", cm)\n"
      ]
    }
  ]
}